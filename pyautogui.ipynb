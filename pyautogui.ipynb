{
 "cells": [
  {
   "cell_type": "markdown",
   "metadata": {},
   "source": [
    "<h3><b>CRIANDO UMA AUTOMAÇÃO COM O PYAUTOGUI<b></h3>\n",
    "<a hef = \"https://readthedocs.org/projects/pyautogui/downloads/pdf/latest/\">Documentação do PyautoGUI</a>\n",
    "<b><h3><b></h3>"
   ]
  },
  {
   "cell_type": "markdown",
   "metadata": {},
   "source": [
    "<h3>Bibliotecas necessárias para o pyautogui, no seu terminal Windows digite os comandos:</h3>\n",
    "<p style = \"background-color:green;padding :10px\">py -m pip install pyautogui</p>\n",
    "<h3>Bibliotecas necessárias para o pyautogui, no seu terminal macOS/Linux digite os comandos:</h3>\n",
    "<p style = \"background-color:green;padding :10px\">python3 -m pip install pyautogui</p>"
   ]
  },
  {
   "cell_type": "code",
   "execution_count": 9,
   "metadata": {},
   "outputs": [],
   "source": [
    "import pyautogui"
   ]
  },
  {
   "cell_type": "markdown",
   "metadata": {},
   "source": [
    "<b><h3>Função para saber onde o cursor está<b></h3>"
   ]
  },
  {
   "cell_type": "code",
   "execution_count": 28,
   "metadata": {},
   "outputs": [
    {
     "data": {
      "text/plain": [
       "Point(x=1919, y=0)"
      ]
     },
     "execution_count": 28,
     "metadata": {},
     "output_type": "execute_result"
    }
   ],
   "source": [
    "pyautogui.position()"
   ]
  },
  {
   "cell_type": "markdown",
   "metadata": {},
   "source": [
    "<h3><b>Funcionamento do pyautogui.position()<b></h3>\n",
    "<img src = \"position_cursor.png\" style =\"width:500px; height:300px\">"
   ]
  },
  {
   "cell_type": "markdown",
   "metadata": {},
   "source": [
    "<b><h3>Função para saber a resolução da tela<b></h3>"
   ]
  },
  {
   "cell_type": "code",
   "execution_count": 8,
   "metadata": {},
   "outputs": [
    {
     "data": {
      "text/plain": [
       "Size(width=1920, height=1080)"
      ]
     },
     "execution_count": 8,
     "metadata": {},
     "output_type": "execute_result"
    }
   ],
   "source": [
    "pyautogui.size()"
   ]
  },
  {
   "cell_type": "markdown",
   "metadata": {},
   "source": [
    "<h3>A função <b>pyautogui.onScreen()</b> retorna true ou false se as coordenadas (x,y) estão na tela onde você deseja trabalhar, servem para delimitar o espaço possível onde o cursor do mouse pode chegar</h3>\n"
   ]
  },
  {
   "cell_type": "code",
   "execution_count": 26,
   "metadata": {},
   "outputs": [
    {
     "data": {
      "text/plain": [
       "True"
      ]
     },
     "metadata": {},
     "output_type": "display_data"
    },
    {
     "data": {
      "text/plain": [
       "True"
      ]
     },
     "metadata": {},
     "output_type": "display_data"
    },
    {
     "data": {
      "text/plain": [
       "True"
      ]
     },
     "metadata": {},
     "output_type": "display_data"
    },
    {
     "data": {
      "text/plain": [
       "False"
      ]
     },
     "metadata": {},
     "output_type": "display_data"
    },
    {
     "data": {
      "text/plain": [
       "False"
      ]
     },
     "metadata": {},
     "output_type": "display_data"
    }
   ],
   "source": [
    "x = [0, 500, 1919, -1, -100]\n",
    "y = [0, 500, 1079, -1, -100]\n",
    "for i in range(len(x)):\n",
    "    display(pyautogui.onScreen(x[i],y[i]))\n"
   ]
  },
  {
   "cell_type": "markdown",
   "metadata": {},
   "source": [
    "<h3 style = \"font-color:white;background:blue;padding:10px;text-align:center\"><b>Fail-Safes<b></h3>\n",
    "<h3>Iremos configurar uma pausa de 2.5 segundos para cada chamada da PyAutoGUI, quando o Fail-Safe está ativado (True), mover o mouse gerará um erro que irá abortar o programa</h3>"
   ]
  },
  {
   "cell_type": "code",
   "execution_count": 46,
   "metadata": {},
   "outputs": [],
   "source": [
    "import pyautogui\n",
    "pyautogui.PAUSE = 0.8\n",
    "pyautogui.FAILSAFE = True"
   ]
  },
  {
   "cell_type": "markdown",
   "metadata": {},
   "source": [
    "<h3 style = \"font-color:white;background:blue;padding:10px;text-align:center\"><b>Mouse Functions<b></h3>\n",
    "<h3>As coordenadas do mouse começam no canto superior esquerdo da tela(0,0) a medida que os valores vão crescendo, o cursor vai descendo para o canto inferior direito da tela</h3>"
   ]
  },
  {
   "cell_type": "code",
   "execution_count": 12,
   "metadata": {},
   "outputs": [
    {
     "name": "stdout",
     "output_type": "stream",
     "text": [
      "Point(x=500, y=500)\n",
      "Point(x=600, y=600)\n",
      "Point(x=700, y=700)\n",
      "True\n"
     ]
    }
   ],
   "source": [
    "x,y = (500, 500)             #uma tupla com os respectivos valores para a posição (x,y)\n",
    "x1,y1 = (600, 600)         #uma tupla com os respectivos valores para a posição (x1,y1)\n",
    "x2,y2 = (100, 100)         #uma tupla com os respectivos valores para a posição (x2,y2)\n",
    "duration = 3                #tempo da duração do movimento do cursor em segundos\n",
    "pyautogui.moveTo(x, y)\n",
    "print(pyautogui.position())\n",
    "pyautogui.moveTo(x1, y1, duration = duration)\n",
    "print(pyautogui.position())\n",
    "pyautogui.moveRel(x2, y2, duration = duration)    # o cursor não irá para a posição (x2,y2), o cursor irá adicionar esses valores para sua atual posição\n",
    "print(pyautogui.position())\n",
    "print(pyautogui.onScreen(pyautogui.position()))"
   ]
  },
  {
   "cell_type": "markdown",
   "metadata": {},
   "source": [
    "<h3>Se a duração for igual a 0, o cursor irá se mover imediatamente para a posição<h3>"
   ]
  },
  {
   "cell_type": "code",
   "execution_count": 13,
   "metadata": {},
   "outputs": [
    {
     "data": {
      "text/plain": [
       "Point(x=29, y=58)"
      ]
     },
     "execution_count": 13,
     "metadata": {},
     "output_type": "execute_result"
    }
   ],
   "source": [
    "a = print(pyautogui.position())"
   ]
  },
  {
   "cell_type": "code",
   "execution_count": 15,
   "metadata": {},
   "outputs": [
    {
     "name": "stdout",
     "output_type": "stream",
     "text": [
      "Point(x=120, y=102)\n"
     ]
    }
   ],
   "source": [
    "b = print(pyautogui.position())"
   ]
  },
  {
   "cell_type": "code",
   "execution_count": 22,
   "metadata": {},
   "outputs": [
    {
     "name": "stdout",
     "output_type": "stream",
     "text": [
      "Point(x=798, y=47)\n"
     ]
    }
   ],
   "source": [
    "c = print(pyautogui.position())"
   ]
  },
  {
   "cell_type": "code",
   "execution_count": null,
   "metadata": {},
   "outputs": [],
   "source": [
    "x, y = (29, 58)\n",
    "x1, y1 = (120, 102)\n",
    "x2, y2 = (1020, 196)\n",
    "x3, y3 = (798, 47)\n",
    "duration = 0.5\n",
    "pyautogui.leftClick(x, y, duration = (duration/2))\n",
    "pyautogui.moveTo(x1, y1, duration = (duration/2))\n",
    "pyautogui.dragTo(x2, y2, duration = (duration*3))\n",
    "pyautogui.leftClick(x3, y3, duration = (duration/2))\n",
    "pyautogui.moveTo(500, 500)\n",
    "pyautogui.scroll(100, 500,500)\n"
   ]
  },
  {
   "cell_type": "code",
   "execution_count": 48,
   "metadata": {},
   "outputs": [],
   "source": [
    "for i in range(3):\n",
    "    pyautogui.scroll(400, 500,500)"
   ]
  },
  {
   "cell_type": "code",
   "execution_count": 58,
   "metadata": {},
   "outputs": [
    {
     "data": {
      "text/plain": [
       "'OK'"
      ]
     },
     "execution_count": 58,
     "metadata": {},
     "output_type": "execute_result"
    }
   ],
   "source": [
    "pyautogui.alert('Deseja continuar?')"
   ]
  },
  {
   "cell_type": "code",
   "execution_count": 63,
   "metadata": {},
   "outputs": [],
   "source": [
    "resposta = pyautogui.confirm('Quer continuar? Se sim, clique em OK e não mova o mouse')\n",
    "if resposta == 'OK':\n",
    "    pyautogui.moveTo(500,500,3)\n",
    "else:\n",
    "    print('Operação Cancelada')"
   ]
  },
  {
   "cell_type": "code",
   "execution_count": 2,
   "metadata": {},
   "outputs": [
    {
     "ename": "NameError",
     "evalue": "name 'pyautogui' is not defined",
     "output_type": "error",
     "traceback": [
      "\u001b[1;31m---------------------------------------------------------------------------\u001b[0m",
      "\u001b[1;31mNameError\u001b[0m                                 Traceback (most recent call last)",
      "Cell \u001b[1;32mIn[2], line 1\u001b[0m\n\u001b[1;32m----> 1\u001b[0m \u001b[43mpyautogui\u001b[49m\u001b[38;5;241m.\u001b[39mprompt(\u001b[38;5;124m'\u001b[39m\u001b[38;5;124mE ae digita teu nome\u001b[39m\u001b[38;5;124m'\u001b[39m)\n",
      "\u001b[1;31mNameError\u001b[0m: name 'pyautogui' is not defined"
     ]
    }
   ],
   "source": [
    "\n",
    "pyautogui.prompt('E ae digita teu nome')"
   ]
  },
  {
   "cell_type": "code",
   "execution_count": 66,
   "metadata": {},
   "outputs": [
    {
     "ename": "ModuleNotFoundError",
     "evalue": "No module named 'PIL'",
     "output_type": "error",
     "traceback": [
      "\u001b[1;31m---------------------------------------------------------------------------\u001b[0m",
      "\u001b[1;31mModuleNotFoundError\u001b[0m                       Traceback (most recent call last)",
      "Cell \u001b[1;32mIn[66], line 1\u001b[0m\n\u001b[1;32m----> 1\u001b[0m \u001b[38;5;28;01mimport\u001b[39;00m \u001b[38;5;21;01mpyscreeze\u001b[39;00m\n\u001b[0;32m      2\u001b[0m pyautogui\u001b[38;5;241m.\u001b[39mscreenshot()\n",
      "File \u001b[1;32mc:\\Users\\Felipe\\AppData\\Local\\Programs\\Python\\Python312\\Lib\\site-packages\\pyscreeze\\__init__.py:17\u001b[0m\n\u001b[0;32m     13\u001b[0m \u001b[38;5;28;01mimport\u001b[39;00m \u001b[38;5;21;01merrno\u001b[39;00m\n\u001b[0;32m     15\u001b[0m \u001b[38;5;28;01mfrom\u001b[39;00m \u001b[38;5;21;01mcontextlib\u001b[39;00m \u001b[38;5;28;01mimport\u001b[39;00m contextmanager\n\u001b[1;32m---> 17\u001b[0m \u001b[38;5;28;01mfrom\u001b[39;00m \u001b[38;5;21;01mPIL\u001b[39;00m \u001b[38;5;28;01mimport\u001b[39;00m Image\n\u001b[0;32m     18\u001b[0m \u001b[38;5;28;01mfrom\u001b[39;00m \u001b[38;5;21;01mPIL\u001b[39;00m \u001b[38;5;28;01mimport\u001b[39;00m ImageOps\n\u001b[0;32m     19\u001b[0m \u001b[38;5;28;01mfrom\u001b[39;00m \u001b[38;5;21;01mPIL\u001b[39;00m \u001b[38;5;28;01mimport\u001b[39;00m ImageDraw\n",
      "\u001b[1;31mModuleNotFoundError\u001b[0m: No module named 'PIL'"
     ]
    }
   ],
   "source": [
    "import pyscreeze\n",
    "pyautogui.screenshot()"
   ]
  },
  {
   "cell_type": "code",
   "execution_count": null,
   "metadata": {},
   "outputs": [],
   "source": []
  }
 ],
 "metadata": {
  "kernelspec": {
   "display_name": "Python 3",
   "language": "python",
   "name": "python3"
  },
  "language_info": {
   "codemirror_mode": {
    "name": "ipython",
    "version": 3
   },
   "file_extension": ".py",
   "mimetype": "text/x-python",
   "name": "python",
   "nbconvert_exporter": "python",
   "pygments_lexer": "ipython3",
   "version": "3.12.3"
  }
 },
 "nbformat": 4,
 "nbformat_minor": 2
}
